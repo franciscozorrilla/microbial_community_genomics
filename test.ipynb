{
 "cells": [
  {
   "cell_type": "code",
   "execution_count": null,
   "metadata": {},
   "outputs": [],
   "source": [
    "import pandas as pd\n",
    "import pyhmmer\n",
    "import glob\n",
    "import pyhmmer.easel as easel\n",
    "import collections\n",
    "\n",
    "def retrieve_hits(seqs_path, hmms, fields=[\"query\", \"subject\", \"bitscore\", \"evalue\"]):\n",
    "\n",
    "    # Load cluster proteins\n",
    "    with pyhmmer.easel.SequenceFile(seqs_path, digital=True, alphabet=easel.Alphabet.amino()) as seqs_file:\n",
    "        proteins = seqs_file.read_block()\n",
    "\n",
    "    # Run HMMs\n",
    "    Result = collections.namedtuple(\"Result\", fields)\n",
    "\n",
    "    results = []\n",
    "    for hits in pyhmmer.hmmsearch(hmms, proteins, E=1):\n",
    "        cog = hits.query_name.decode()\n",
    "        for hit in hits:\n",
    "            if hit.included:\n",
    "                results.append(Result(hit.name.decode(), cog, hit.score, hit.evalue))\n",
    "\n",
    "    # Results --> df\n",
    "    hits_df = {}\n",
    "    c = 0\n",
    "    for i in results:\n",
    "        hits_df[c] = list(i)\n",
    "        c += 1\n",
    "    hits_df = pd.DataFrame.from_dict(hits_df, orient='index', columns=fields)\n",
    "    \n",
    "    return hits_df\n",
    "\n",
    "# Find and load a collection of HMMs\n",
    "HMMS = []\n",
    "for fil in glob.glob('./data/hmms_nifHDK/*.hmm'):\n",
    "    with pyhmmer.plan7.HMMFile(fil) as hmm_file:\n",
    "        HMMS.append(hmm_file.read())\n",
    "HMMS"
   ]
  },
  {
   "cell_type": "code",
   "execution_count": null,
   "metadata": {},
   "outputs": [],
   "source": [
    "results = retrieve_hits('./data/omd2_candidate.faa', HMMS)\n",
    "results"
   ]
  },
  {
   "cell_type": "code",
   "execution_count": null,
   "metadata": {},
   "outputs": [],
   "source": [
    "retrieve_hits('./data/cyanobact.faa', HMMS)"
   ]
  }
 ],
 "metadata": {
  "language_info": {
   "name": "python"
  }
 },
 "nbformat": 4,
 "nbformat_minor": 2
}
