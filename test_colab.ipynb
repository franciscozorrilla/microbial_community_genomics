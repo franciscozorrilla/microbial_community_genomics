{
 "cells": [
  {
   "cell_type": "markdown",
   "metadata": {},
   "source": [
    "# Install Required Libraries\n",
    "Use pip to install the necessary libraries, including pandas, pyhmmer, and glob2."
   ]
  },
  {
   "cell_type": "code",
   "execution_count": null,
   "metadata": {},
   "outputs": [],
   "source": [
    "# Install Required Libraries\n",
    "!pip install pandas pyhmmer glob2"
   ]
  },
  {
   "cell_type": "markdown",
   "metadata": {},
   "source": [
    "# Import Required Libraries\n",
    "Import the necessary libraries, including pandas, pyhmmer, glob, and collections."
   ]
  },
  {
   "cell_type": "code",
   "execution_count": null,
   "metadata": {},
   "outputs": [],
   "source": [
    "# Import Required Libraries\n",
    "import pandas as pd\n",
    "import pyhmmer\n",
    "import glob\n",
    "import pyhmmer.easel as easel\n",
    "import collections"
   ]
  },
  {
   "cell_type": "markdown",
   "metadata": {},
   "source": [
    "# Define Helper Functions\n",
    "Define the retrieve_hits function to process sequence files and run HMMs."
   ]
  },
  {
   "cell_type": "code",
   "execution_count": null,
   "metadata": {},
   "outputs": [],
   "source": [
    "# Define Helper Functions\n",
    "def retrieve_hits(seqs_path, hmms, fields=[\"query\", \"subject\", \"bitscore\", \"evalue\"]):\n",
    "    # Load cluster proteins\n",
    "    with pyhmmer.easel.SequenceFile(seqs_path, digital=True, alphabet=easel.Alphabet.amino()) as seqs_file:\n",
    "        proteins = seqs_file.read_block()\n",
    "\n",
    "    # Run HMMs\n",
    "    Result = collections.namedtuple(\"Result\", fields)\n",
    "    results = []\n",
    "    for hits in pyhmmer.hmmsearch(hmms, proteins, E=1):\n",
    "        cog = hits.query_name.decode()\n",
    "        for hit in hits:\n",
    "            if hit.included:\n",
    "                results.append(Result(hit.name.decode(), cog, hit.score, hit.evalue))\n",
    "\n",
    "    # Results --> df\n",
    "    hits_df = {}\n",
    "    c = 0\n",
    "    for i in results:\n",
    "        hits_df[c] = list(i)\n",
    "        c += 1\n",
    "    hits_df = pd.DataFrame.from_dict(hits_df, orient='index', columns=fields)\n",
    "    \n",
    "    return hits_df"
   ]
  },
  {
   "cell_type": "markdown",
   "metadata": {},
   "source": [
    "# Load HMMs\n",
    "Find and load a collection of HMMs from the specified directory."
   ]
  },
  {
   "cell_type": "code",
   "execution_count": null,
   "metadata": {},
   "outputs": [],
   "source": [
    "# Load HMMs\n",
    "from google.colab import drive\n",
    "drive.mount('/content/drive')\n",
    "\n",
    "# Find and load a collection of HMMs\n",
    "HMMS = []\n",
    "for fil in glob.glob('/content/drive/MyDrive/data/hmms_nifHDK/*.hmm'):\n",
    "    with pyhmmer.plan7.HMMFile(fil) as hmm_file:\n",
    "        HMMS.append(hmm_file.read())\n",
    "HMMS"
   ]
  },
  {
   "cell_type": "markdown",
   "metadata": {},
   "source": [
    "# Retrieve Hits for First Dataset\n",
    "Use the retrieve_hits function to process the first dataset and display the results."
   ]
  },
  {
   "cell_type": "code",
   "execution_count": null,
   "metadata": {},
   "outputs": [],
   "source": [
    "# Retrieve Hits for First Dataset\n",
    "results = retrieve_hits('/content/drive/MyDrive/data/omd2_candidate.faa', HMMS)\n",
    "results"
   ]
  },
  {
   "cell_type": "markdown",
   "metadata": {},
   "source": [
    "# Retrieve Hits for Second Dataset\n",
    "Use the retrieve_hits function to process the second dataset and display the results."
   ]
  },
  {
   "cell_type": "code",
   "execution_count": null,
   "metadata": {},
   "outputs": [],
   "source": [
    "# Retrieve Hits for Second Dataset\n",
    "results_second_dataset = retrieve_hits('/content/drive/MyDrive/data/cyanobact.faa', HMMS)\n",
    "results_second_dataset"
   ]
  }
 ],
 "metadata": {
  "language_info": {
   "name": "python"
  }
 },
 "nbformat": 4,
 "nbformat_minor": 2
}
